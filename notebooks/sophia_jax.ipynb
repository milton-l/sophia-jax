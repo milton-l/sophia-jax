{
 "cells": [
  {
   "cell_type": "code",
   "execution_count": 3,
   "metadata": {},
   "outputs": [],
   "source": [
    "import os\n",
    "import sys"
   ]
  },
  {
   "cell_type": "code",
   "execution_count": 4,
   "metadata": {},
   "outputs": [],
   "source": [
    "current_dir = os.getcwd()\n",
    "parent_dir = os.path.abspath(os.path.join(current_dir, \"..\"))\n",
    "sys.path.append(parent_dir)"
   ]
  },
  {
   "cell_type": "code",
   "execution_count": 5,
   "metadata": {},
   "outputs": [],
   "source": [
    "from sophia_jax.sophia import SophiaG"
   ]
  },
  {
   "cell_type": "code",
   "execution_count": 11,
   "metadata": {},
   "outputs": [
    {
     "name": "stdout",
     "output_type": "stream",
     "text": [
      "Step 0, Params: [Array([2.964746, 3.964746], dtype=float32)]\n",
      "Step 10, Params: [Array([2.2321053, 3.2228334], dtype=float32)]\n",
      "Step 20, Params: [Array([1.7845222, 2.743377 ], dtype=float32)]\n",
      "Step 30, Params: [Array([1.5453217, 2.4694402], dtype=float32)]\n",
      "Step 40, Params: [Array([1.3929669, 2.2870338], dtype=float32)]\n",
      "Step 50, Params: [Array([1.2828739, 2.1515439], dtype=float32)]\n",
      "Step 60, Params: [Array([1.1971759, 2.0440278], dtype=float32)]\n",
      "Step 70, Params: [Array([1.1273192, 1.9550474], dtype=float32)]\n",
      "Step 80, Params: [Array([1.0685737, 1.8792496], dtype=float32)]\n",
      "Step 90, Params: [Array([1.0180446, 1.8133042], dtype=float32)]\n",
      "Step 100, Params: [Array([0.97382957, 1.7549969 ], dtype=float32)]\n",
      "Step 110, Params: [Array([0.934612 , 1.7027801], dtype=float32)]\n",
      "Step 120, Params: [Array([0.8994428, 1.6555306], dtype=float32)]\n",
      "Step 130, Params: [Array([0.8676161, 1.6124071], dtype=float32)]\n",
      "Step 140, Params: [Array([0.8385931, 1.5727636], dtype=float32)]\n",
      "Step 150, Params: [Array([0.81195325, 1.5360938 ], dtype=float32)]\n",
      "Step 160, Params: [Array([0.7873622, 1.5019927], dtype=float32)]\n",
      "Step 170, Params: [Array([0.7645503, 1.4701326], dtype=float32)]\n",
      "Step 180, Params: [Array([0.74329674, 1.4402435 ], dtype=float32)]\n",
      "Step 190, Params: [Array([0.72341835, 1.4121011 ], dtype=float32)]\n",
      "Step 200, Params: [Array([0.704762, 1.385517], dtype=float32)]\n",
      "Step 210, Params: [Array([0.68719816, 1.3603315 ], dtype=float32)]\n",
      "Step 220, Params: [Array([0.6706165, 1.3364079], dtype=float32)]\n",
      "Step 230, Params: [Array([0.6549222, 1.313628 ], dtype=float32)]\n",
      "Step 240, Params: [Array([0.64003307, 1.2918899 ], dtype=float32)]\n",
      "Step 250, Params: [Array([0.6258777, 1.2711042], dtype=float32)]\n",
      "Step 260, Params: [Array([0.61239356, 1.2511926 ], dtype=float32)]\n",
      "Step 270, Params: [Array([0.5995256, 1.2320856], dtype=float32)]\n",
      "Step 280, Params: [Array([0.5872249, 1.213722 ], dtype=float32)]\n",
      "Step 290, Params: [Array([0.5754484, 1.1960471], dtype=float32)]\n",
      "Final Params: [Array([0.56526554, 1.1806877 ], dtype=float32)]\n"
     ]
    }
   ],
   "source": [
    "import jax\n",
    "import jax.numpy as jnp\n",
    "\n",
    "\n",
    "# loss\n",
    "def quadratic(x):\n",
    "    return jnp.sum(x**2)\n",
    "\n",
    "\n",
    "# gradients\n",
    "grad_fn = jax.grad(quadratic)\n",
    "\n",
    "params = [jnp.array([3.0, 4.0])]\n",
    "grads = [grad_fn(params[0])]\n",
    "\n",
    "optimizer = SophiaG(\n",
    "    params=params, lr=0.2, betas=(0.9, 0.999), rho=0.04, weight_decay=0.0\n",
    ")\n",
    "state = optimizer.init_state(params)\n",
    "\n",
    "num_steps = 300\n",
    "for step in range(num_steps):\n",
    "    grads = [grad_fn(params[0])]\n",
    "    params, state = optimizer.step(params, grads, state, bs=5120)\n",
    "    if step % 10 == 0:\n",
    "        print(f\"Step {step}, Params: {params}\")\n",
    "\n",
    "\n",
    "print(f\"Final Params: {params}\")"
   ]
  }
 ],
 "metadata": {
  "kernelspec": {
   "display_name": "sj_env",
   "language": "python",
   "name": "python3"
  },
  "language_info": {
   "codemirror_mode": {
    "name": "ipython",
    "version": 3
   },
   "file_extension": ".py",
   "mimetype": "text/x-python",
   "name": "python",
   "nbconvert_exporter": "python",
   "pygments_lexer": "ipython3",
   "version": "3.11.5"
  }
 },
 "nbformat": 4,
 "nbformat_minor": 2
}
